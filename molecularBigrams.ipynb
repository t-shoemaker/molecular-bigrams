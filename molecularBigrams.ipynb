{
 "cells": [
  {
   "cell_type": "markdown",
   "metadata": {},
   "source": [
    "# Molecular Bigrams\n",
    "Tyler Shoemaker (tshoemaker \\[at\\] ucdavis \\[dot\\] edu) "
   ]
  },
  {
   "cell_type": "code",
   "execution_count": 1,
   "metadata": {},
   "outputs": [],
   "source": [
    "import re\n",
    "import pandas as pd\n",
    "import networkx as nx\n",
    "import matplotlib.pyplot as plt"
   ]
  },
  {
   "cell_type": "code",
   "execution_count": 2,
   "metadata": {},
   "outputs": [],
   "source": [
    "def unigramNetwork(text):\n",
    "    G = nx.Graph()\n",
    "    G.add_node(text)\n",
    "    \n",
    "    return G"
   ]
  },
  {
   "cell_type": "code",
   "execution_count": 3,
   "metadata": {},
   "outputs": [],
   "source": [
    "def bigramNetwork(text, dataframe):\n",
    "    bigrams = re.findall(r'(?=([a-zA-Z]{2}))', text.lower())\n",
    "    \n",
    "    G = nx.DiGraph()\n",
    "    for pair in bigrams:\n",
    "        source = pair[0]\n",
    "        target = pair[1]\n",
    "        val_query = dataframe[source]\n",
    "        weight = val_query[target] * 3\n",
    "        G.add_weighted_edges_from([(source, target, weight)])\n",
    "    \n",
    "    return G"
   ]
  },
  {
   "cell_type": "code",
   "execution_count": 4,
   "metadata": {},
   "outputs": [],
   "source": [
    "def drawNetwork(text, graph):\n",
    "    edges = graph.edges()\n",
    "    weights = [graph[u][v]['weight'] for u,v in edges]\n",
    "    \n",
    "    plt.subplot(frameon=False)\n",
    "    plt.title(text, y=-0.1, fontdict={'fontname':'Futura', 'fontsize':12})\n",
    "    \n",
    "    pos = nx.spring_layout(graph,\n",
    "k=1.5,\n",
    "        iterations=100,\n",
    "        seed=5)\n",
    "    nx.draw_networkx_nodes(graph, pos,\n",
    "        node_size=250,\n",
    "        node_color='#000000')\n",
    "    nx.draw_networkx_labels(graph, pos,\n",
    "        font_family='Futura',\n",
    "        font_color='#FFFFFF')\n",
    "    nx.draw_networkx_edges(graph, pos,\n",
    "        width=weights,\n",
    "        arrowsize=1,\n",
    "        arrowstyle='wedge, tail_width=.3, shrink_factor=5',\n",
    "        connectionstyle='arc3, rad=.3')\n",
    "    \n",
    "    plt.show()"
   ]
  },
  {
   "cell_type": "markdown",
   "metadata": {},
   "source": [
    "### Enter text here:"
   ]
  },
  {
   "cell_type": "code",
   "execution_count": 6,
   "metadata": {},
   "outputs": [],
   "source": [
    "text = 'hello'"
   ]
  },
  {
   "cell_type": "code",
   "execution_count": 7,
   "metadata": {
    "scrolled": true
   },
   "outputs": [
    {
     "data": {
      "image/png": "[encoded data removed]",
      "text/plain": [
       "<Figure size 432x288 with 1 Axes>"
      ]
     },
     "metadata": {},
     "output_type": "display_data"
    }
   ],
   "source": [
    "with open('./google-books-bigrams.csv', 'r') as f:\n",
    "    df = pd.read_csv(f, index_col=0)\n",
    "    if len(text) == 1:\n",
    "        graph = unigramNetwork(text)\n",
    "        drawNetwork(text, graph)\n",
    "    else:\n",
    "        graph = bigramNetwork(text, df)\n",
    "        drawNetwork(text, graph)"
   ]
  }
 ],
 "metadata": {
  "kernelspec": {
   "display_name": "Python 3",
   "language": "python",
   "name": "python3"
  },
  "language_info": {
   "codemirror_mode": {
    "name": "ipython",
    "version": 3
   },
   "file_extension": ".py",
   "mimetype": "text/x-python",
   "name": "python",
   "nbconvert_exporter": "python",
   "pygments_lexer": "ipython3",
   "version": "3.7.3"
  }
 },
 "nbformat": 4,
 "nbformat_minor": 4
}
